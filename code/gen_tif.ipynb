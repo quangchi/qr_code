{
 "cells": [
  {
   "cell_type": "code",
   "execution_count": 1,
   "metadata": {},
   "outputs": [],
   "source": [
    "import pandas as pd\n",
    "import requests\n",
    "import os\n",
    "import qrcode\n",
    "import cv2\n",
    "import numpy as np\n",
    "import glob"
   ]
  },
  {
   "cell_type": "code",
   "execution_count": 2,
   "metadata": {},
   "outputs": [],
   "source": [
    "data = pd.read_csv(\"/home/chihq/SX-FS 21.csv\")\n",
    "data = data.dropna(subset=[\"Designs Artwork\"])"
   ]
  },
  {
   "cell_type": "code",
   "execution_count": 3,
   "metadata": {},
   "outputs": [],
   "source": [
    "path = \"/home/chihq/Desktop/try_tiff/img\"\n",
    "path_qr = \"/home/chihq/Desktop/try_tiff/qrcode_img\"\n",
    "# for name, url in zip(data[\"Stock Moves/Sale Line/Barcode\"], data[\"Designs Artwork\"]):\n",
    "#     path_save = os.path.join(path, name+url[-4:])\n",
    "#     print(name, url)\n",
    "#     r = requests.get(url, allow_redirects=True)\n",
    "#     open(path_save, 'wb').write(r.content)"
   ]
  },
  {
   "cell_type": "code",
   "execution_count": 69,
   "metadata": {},
   "outputs": [],
   "source": [
    "data.index = data[\"Stock Moves/Sale Line/Barcode\"]"
   ]
  },
  {
   "cell_type": "code",
   "execution_count": 81,
   "metadata": {},
   "outputs": [
    {
     "data": {
      "text/plain": [
       "'150*200cm'"
      ]
     },
     "execution_count": 81,
     "metadata": {},
     "output_type": "execute_result"
    }
   ],
   "source": [
    "data.loc['pb101147271988_45016'].Size"
   ]
  },
  {
   "cell_type": "code",
   "execution_count": 82,
   "metadata": {},
   "outputs": [],
   "source": [
    "# for nimg in data.index:\n",
    "#     img_p = glob.glob(os.path.join(path, nimg+\".*\"))[0]\n",
    "#     img_qr = glob.glob(os.path.join(path_qr, nimg+\".*\"))[0]\n",
    "    "
   ]
  },
  {
   "cell_type": "code",
   "execution_count": 4,
   "metadata": {},
   "outputs": [],
   "source": [
    "list_img = sorted(glob.glob(os.path.join(path, \"*\")))\n",
    "list_qr = sorted(glob.glob(os.path.join(path_qr, \"*\")))"
   ]
  },
  {
   "cell_type": "code",
   "execution_count": 112,
   "metadata": {},
   "outputs": [
    {
     "data": {
      "text/plain": [
       "('/home/chihq/Desktop/try_tiff/img/pb100665161876_45018.png',\n",
       " '/home/chihq/Desktop/try_tiff/qrcode_img/pb100665161876_45018.png')"
      ]
     },
     "execution_count": 112,
     "metadata": {},
     "output_type": "execute_result"
    }
   ],
   "source": [
    "list_img[3], list_qr[3]"
   ]
  },
  {
   "cell_type": "code",
   "execution_count": 113,
   "metadata": {},
   "outputs": [],
   "source": [
    "img = cv2.imread(list_img[3])\n",
    "imgqr = cv2.imread(list_qr[3])\n",
    "imgqr = cv2.resize(imgqr, (115,115))"
   ]
  },
  {
   "cell_type": "code",
   "execution_count": 114,
   "metadata": {},
   "outputs": [
    {
     "data": {
      "text/plain": [
       "(7000, 7000, 3)"
      ]
     },
     "execution_count": 114,
     "metadata": {},
     "output_type": "execute_result"
    }
   ],
   "source": [
    "img.shape"
   ]
  },
  {
   "cell_type": "code",
   "execution_count": 115,
   "metadata": {},
   "outputs": [],
   "source": [
    "arr = np.ones([115, 7000,3])*255"
   ]
  },
  {
   "cell_type": "code",
   "execution_count": 116,
   "metadata": {},
   "outputs": [],
   "source": [
    "arr[:, 5500:5500+115,:]=imgqr\n",
    "concat = np.vstack([arr, img])"
   ]
  },
  {
   "cell_type": "code",
   "execution_count": 120,
   "metadata": {},
   "outputs": [
    {
     "data": {
      "text/plain": [
       "True"
      ]
     },
     "execution_count": 120,
     "metadata": {},
     "output_type": "execute_result"
    }
   ],
   "source": [
    "cv2.imwrite(\"pb100665161876_45018.jpg\", concat) "
   ]
  },
  {
   "cell_type": "code",
   "execution_count": 121,
   "metadata": {},
   "outputs": [],
   "source": [
    "# gen raw tif\n",
    "from wand.image import Image \n",
    "  \n",
    "with Image(filename ='pb100665161876_45018.jpg', resolution=(1310, 1495)) as img: \n",
    "    img.compression_quality = 99\n",
    "    img.format = 'tif'\n",
    "    img.save(filename ='pb100665161876_45018.tif') \n"
   ]
  },
  {
   "cell_type": "code",
   "execution_count": 122,
   "metadata": {},
   "outputs": [
    {
     "data": {
      "text/plain": [
       "{'compression': 'raw', 'resolution': (1310.0, 1495.0)}"
      ]
     },
     "execution_count": 122,
     "metadata": {},
     "output_type": "execute_result"
    }
   ],
   "source": [
    "from PIL import Image\n",
    "lena = Image.open('pb100665161876_45018.tif')\n",
    "lena.info"
   ]
  },
  {
   "cell_type": "code",
   "execution_count": 123,
   "metadata": {},
   "outputs": [],
   "source": [
    "# create tiff with  dpi=(150, 150)\n",
    "lena.save('pb100665161876_45018.tif', dpi=(150, 150))"
   ]
  },
  {
   "cell_type": "code",
   "execution_count": 124,
   "metadata": {},
   "outputs": [
    {
     "data": {
      "text/plain": [
       "{'compression': 'raw', 'dpi': (150, 150)}"
      ]
     },
     "execution_count": 124,
     "metadata": {},
     "output_type": "execute_result"
    }
   ],
   "source": [
    "from PIL import Image\n",
    "lena = Image.open('pb100665161876_45018.tif')\n",
    "lena.info"
   ]
  },
  {
   "cell_type": "code",
   "execution_count": null,
   "metadata": {},
   "outputs": [],
   "source": []
  },
  {
   "cell_type": "code",
   "execution_count": null,
   "metadata": {},
   "outputs": [],
   "source": []
  }
 ],
 "metadata": {
  "kernelspec": {
   "display_name": "Python 3",
   "language": "python",
   "name": "python3"
  },
  "language_info": {
   "codemirror_mode": {
    "name": "ipython",
    "version": 3
   },
   "file_extension": ".py",
   "mimetype": "text/x-python",
   "name": "python",
   "nbconvert_exporter": "python",
   "pygments_lexer": "ipython3",
   "version": "3.5.2"
  }
 },
 "nbformat": 4,
 "nbformat_minor": 4
}
